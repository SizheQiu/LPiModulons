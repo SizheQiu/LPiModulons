{
 "cells": [
  {
   "cell_type": "code",
   "execution_count": 32,
   "id": "c27eb9a6",
   "metadata": {},
   "outputs": [],
   "source": [
    "import numpy as np\n",
    "import pandas as pd\n",
    "import pickle\n",
    "from Bio import SeqIO\n",
    "from Bio.Seq import Seq\n",
    "from Bio.SeqRecord import SeqRecord\n",
    "from matplotlib import pyplot as plt\n",
    "import os \n",
    "from functions import *\n",
    "from enrichment import *\n",
    "from matplotlib_venn import venn2, venn3\n",
    "from dna_features_viewer import GraphicFeature, GraphicRecord\n",
    "from scipy import stats"
   ]
  },
  {
   "cell_type": "markdown",
   "id": "7f5e495d",
   "metadata": {},
   "source": [
    "# Load dataset"
   ]
  },
  {
   "cell_type": "code",
   "execution_count": 2,
   "id": "526f47c2",
   "metadata": {},
   "outputs": [],
   "source": [
    "S = pd.read_csv('../data/IMdata/S.csv')\n",
    "S = pd.read_csv('../data/IMdata/S.csv',index_col=0)\n",
    "A = pd.read_csv('../data/IMdata/A.csv',index_col=0)\n",
    "all_genes = list(S.index)\n",
    "log_rpkm_norm = pd.read_csv('../data/IMdata/log_rpkm_norm.csv', index_col=0)\n",
    "log_rpkm = pd.read_csv('../data/IMdata/log_rpkm.csv',index_col=0)\n",
    "IM_list = list(S.columns)\n",
    "\n",
    "regulons = load_pickle('../data/IMdata/lpwcfs1_regulons.pkl')\n",
    "regulators, gene_ids = [],[]\n",
    "for k in regulons.keys():\n",
    "    gene_ids += regulons[k]\n",
    "    regulators += [ k for i in range(len(regulons[k])) ]\n",
    "trn = pd.DataFrame(zip(regulators,gene_ids), columns=['regulator','gene_id'])"
   ]
  },
  {
   "cell_type": "code",
   "execution_count": 3,
   "id": "a5133ce9",
   "metadata": {},
   "outputs": [
    {
     "name": "stdout",
     "output_type": "stream",
     "text": [
      "Explained variance: 0.85\n"
     ]
    }
   ],
   "source": [
    "orig_var = (log_rpkm_norm**2).sum().sum()\n",
    "err_var = ((log_rpkm_norm.values - (S.values).dot(A.values) )**2).sum().sum()\n",
    "print('Explained variance: {:.2f}'.format(1-err_var/orig_var))"
   ]
  },
  {
   "cell_type": "markdown",
   "id": "4f97081e",
   "metadata": {},
   "source": [
    "# IM gene identification"
   ]
  },
  {
   "cell_type": "code",
   "execution_count": 4,
   "id": "e108c02f",
   "metadata": {},
   "outputs": [],
   "source": [
    "IM_thersholds = {}\n",
    "for im in IM_list:\n",
    "    IM_thersholds[im] = compute_threshold(S, im ,cutoff=550)"
   ]
  },
  {
   "cell_type": "code",
   "execution_count": 5,
   "id": "da394fef",
   "metadata": {},
   "outputs": [],
   "source": [
    "# IMs = {}\n",
    "# for im in IM_list:\n",
    "#     temp_pd = S[abs(S[im]) >= IM_thersholds[im] ]\n",
    "#     IMs[im] = list(temp_pd.index)\n",
    "# dump_pickle(IMs, '../data/IMdata/imodulon_genes.pkl')"
   ]
  },
  {
   "cell_type": "code",
   "execution_count": 6,
   "id": "3e55924e",
   "metadata": {},
   "outputs": [],
   "source": [
    "IMs = load_pickle('../data/IMdata/imodulon_genes.pkl')"
   ]
  },
  {
   "cell_type": "code",
   "execution_count": 7,
   "id": "81fa617c",
   "metadata": {},
   "outputs": [
    {
     "data": {
      "text/plain": [
       "Text(0, 0.5, 'Number')"
      ]
     },
     "execution_count": 7,
     "metadata": {},
     "output_type": "execute_result"
    },
    {
     "data": {
      "image/png": "[encoded data removed]",
      "text/plain": [
       "<Figure size 432x288 with 1 Axes>"
      ]
     },
     "metadata": {
      "needs_background": "light"
     },
     "output_type": "display_data"
    }
   ],
   "source": [
    "IM_sizes = [len(IMs[im]) for im in IMs]\n",
    "plt.hist(IM_sizes,bins=25);\n",
    "plt.xlabel('iModulon size')\n",
    "plt.ylabel('Number')"
   ]
  },
  {
   "cell_type": "markdown",
   "id": "47c16b43",
   "metadata": {},
   "source": [
    "# Regulon enrichment"
   ]
  },
  {
   "cell_type": "code",
   "execution_count": 8,
   "id": "e34e0ca0",
   "metadata": {},
   "outputs": [],
   "source": [
    "IMwRF = []\n",
    "for k in IMs:\n",
    "    if sum(trn.gene_id.isin( IMs[k] ) ) > 0:\n",
    "        IMwRF.append( k )"
   ]
  },
  {
   "cell_type": "code",
   "execution_count": 22,
   "id": "ab702726",
   "metadata": {},
   "outputs": [
    {
     "data": {
      "text/html": [
       "<div>\n",
       "<style scoped>\n",
       "    .dataframe tbody tr th:only-of-type {\n",
       "        vertical-align: middle;\n",
       "    }\n",
       "\n",
       "    .dataframe tbody tr th {\n",
       "        vertical-align: top;\n",
       "    }\n",
       "\n",
       "    .dataframe thead th {\n",
       "        text-align: right;\n",
       "    }\n",
       "</style>\n",
       "<table border=\"1\" class=\"dataframe\">\n",
       "  <thead>\n",
       "    <tr style=\"text-align: right;\">\n",
       "      <th></th>\n",
       "      <th>pvalue</th>\n",
       "      <th>precision</th>\n",
       "      <th>recall</th>\n",
       "      <th>f1score</th>\n",
       "      <th>TP</th>\n",
       "      <th>regulon_size</th>\n",
       "      <th>gene_set_size</th>\n",
       "      <th>n_regs</th>\n",
       "      <th>qvalue</th>\n",
       "    </tr>\n",
       "  </thead>\n",
       "  <tbody>\n",
       "  </tbody>\n",
       "</table>\n",
       "</div>"
      ],
      "text/plain": [
       "Empty DataFrame\n",
       "Columns: [pvalue, precision, recall, f1score, TP, regulon_size, gene_set_size, n_regs, qvalue]\n",
       "Index: []"
      ]
     },
     "execution_count": 22,
     "metadata": {},
     "output_type": "execute_result"
    }
   ],
   "source": [
    "compute_trn_enrichment(IMs['16'], list(S.index), trn )"
   ]
  },
  {
   "cell_type": "code",
   "execution_count": 16,
   "id": "6a6a9372",
   "metadata": {},
   "outputs": [
    {
     "data": {
      "text/plain": [
       "<matplotlib_venn._common.VennDiagram at 0x7fda369ce520>"
      ]
     },
     "execution_count": 16,
     "metadata": {},
     "output_type": "execute_result"
    },
    {
     "data": {
      "image/png": "[encoded data removed]",
      "text/plain": [
       "<Figure size 432x288 with 1 Axes>"
      ]
     },
     "metadata": {},
     "output_type": "display_data"
    }
   ],
   "source": [
    "venn2([set(IMs['16']), set(regulons['CcpA'])])"
   ]
  },
  {
   "cell_type": "markdown",
   "id": "b8deae2f",
   "metadata": {},
   "source": [
    "# I-modulon visualization"
   ]
  },
  {
   "cell_type": "code",
   "execution_count": 9,
   "id": "9deb0420",
   "metadata": {},
   "outputs": [
    {
     "data": {
      "text/plain": [
       "Text(0, 0.5, 'IM 1 coeff')"
      ]
     },
     "execution_count": 9,
     "metadata": {},
     "output_type": "execute_result"
    },
    {
     "data": {
      "image/png": "[encoded data removed]",
      "text/plain": [
       "<Figure size 432x288 with 1 Axes>"
      ]
     },
     "metadata": {
      "needs_background": "light"
     },
     "output_type": "display_data"
    }
   ],
   "source": [
    "plt.scatter(log_rpkm[['wt_pH6.2_1','wt_pH6.2_2']].mean(axis=1), S['1'] )\n",
    "plt.axhline(y=IM_thersholds['1'], color='r', linestyle='--' )\n",
    "plt.xlabel('Basal expression (log RPKM)')\n",
    "plt.ylabel('IM 1 coeff')"
   ]
  },
  {
   "cell_type": "code",
   "execution_count": 23,
   "id": "a0df6a7f",
   "metadata": {},
   "outputs": [
    {
     "data": {
      "text/plain": [
       "Text(0, 0.5, 'IM 16 coeff')"
      ]
     },
     "execution_count": 23,
     "metadata": {},
     "output_type": "execute_result"
    },
    {
     "data": {
      "image/png": "[encoded data removed]",
      "text/plain": [
       "<Figure size 432x288 with 1 Axes>"
      ]
     },
     "metadata": {
      "needs_background": "light"
     },
     "output_type": "display_data"
    }
   ],
   "source": [
    "plt.scatter(log_rpkm[['wt_pH6.2_1','wt_pH6.2_2']].mean(axis=1), S['16'] )\n",
    "plt.axhline(y=IM_thersholds['16'], color='r', linestyle='--' )\n",
    "plt.xlabel('Basal expression (log RPKM)')\n",
    "plt.ylabel('IM 16 coeff')"
   ]
  },
  {
   "cell_type": "code",
   "execution_count": 25,
   "id": "e6bf0fc7",
   "metadata": {},
   "outputs": [
    {
     "data": {
      "text/plain": [
       "52"
      ]
     },
     "execution_count": 25,
     "metadata": {},
     "output_type": "execute_result"
    }
   ],
   "source": [
    "len(IMs['16'])"
   ]
  },
  {
   "cell_type": "markdown",
   "id": "029ab56d",
   "metadata": {},
   "source": [
    "# IM-1 case study"
   ]
  },
  {
   "cell_type": "code",
   "execution_count": 9,
   "id": "b813f6c4",
   "metadata": {},
   "outputs": [
    {
     "data": {
      "text/html": [
       "<div>\n",
       "<style scoped>\n",
       "    .dataframe tbody tr th:only-of-type {\n",
       "        vertical-align: middle;\n",
       "    }\n",
       "\n",
       "    .dataframe tbody tr th {\n",
       "        vertical-align: top;\n",
       "    }\n",
       "\n",
       "    .dataframe thead th {\n",
       "        text-align: right;\n",
       "    }\n",
       "</style>\n",
       "<table border=\"1\" class=\"dataframe\">\n",
       "  <thead>\n",
       "    <tr style=\"text-align: right;\">\n",
       "      <th></th>\n",
       "      <th>start</th>\n",
       "      <th>end</th>\n",
       "      <th>strand</th>\n",
       "      <th>feature_interval_length</th>\n",
       "      <th>symbol</th>\n",
       "      <th>locus_tag</th>\n",
       "    </tr>\n",
       "  </thead>\n",
       "  <tbody>\n",
       "    <tr>\n",
       "      <th>0</th>\n",
       "      <td>1</td>\n",
       "      <td>1368</td>\n",
       "      <td>+</td>\n",
       "      <td>1368</td>\n",
       "      <td>dnaA</td>\n",
       "      <td>lp_0001</td>\n",
       "    </tr>\n",
       "    <tr>\n",
       "      <th>1</th>\n",
       "      <td>1546</td>\n",
       "      <td>2685</td>\n",
       "      <td>+</td>\n",
       "      <td>1140</td>\n",
       "      <td>dnaN</td>\n",
       "      <td>lp_0002</td>\n",
       "    </tr>\n",
       "    <tr>\n",
       "      <th>2</th>\n",
       "      <td>3210</td>\n",
       "      <td>3443</td>\n",
       "      <td>+</td>\n",
       "      <td>234</td>\n",
       "      <td>lp_0004</td>\n",
       "      <td>lp_0004</td>\n",
       "    </tr>\n",
       "    <tr>\n",
       "      <th>3</th>\n",
       "      <td>3444</td>\n",
       "      <td>4568</td>\n",
       "      <td>+</td>\n",
       "      <td>1125</td>\n",
       "      <td>recF</td>\n",
       "      <td>lp_0005</td>\n",
       "    </tr>\n",
       "    <tr>\n",
       "      <th>4</th>\n",
       "      <td>4565</td>\n",
       "      <td>6511</td>\n",
       "      <td>+</td>\n",
       "      <td>1947</td>\n",
       "      <td>gyrB</td>\n",
       "      <td>lp_0006</td>\n",
       "    </tr>\n",
       "  </tbody>\n",
       "</table>\n",
       "</div>"
      ],
      "text/plain": [
       "   start   end strand  feature_interval_length   symbol locus_tag\n",
       "0      1  1368      +                     1368     dnaA   lp_0001\n",
       "1   1546  2685      +                     1140     dnaN   lp_0002\n",
       "2   3210  3443      +                      234  lp_0004   lp_0004\n",
       "3   3444  4568      +                     1125     recF   lp_0005\n",
       "4   4565  6511      +                     1947     gyrB   lp_0006"
      ]
     },
     "execution_count": 9,
     "metadata": {},
     "output_type": "execute_result"
    }
   ],
   "source": [
    "gb_features = pd.read_csv('../data/genome/GCA_000203855.3_ASM20385v3_feature_table.txt',sep='\\t')\n",
    "gb_features = (gb_features[gb_features['# feature']=='gene']).reset_index().drop(['index'],axis=1)\n",
    "gb_features = gb_features[['start','end','strand','feature_interval_length','symbol','locus_tag']]\n",
    "gb_features = ( gb_features.dropna(subset=['locus_tag']) ).reset_index().drop(['index'],axis=1)\n",
    "gb_features['symbol'] = gb_features['symbol'].fillna(gb_features['locus_tag'])\n",
    "gb_features.head()"
   ]
  },
  {
   "cell_type": "code",
   "execution_count": 10,
   "id": "701fa31a",
   "metadata": {},
   "outputs": [
    {
     "data": {
      "text/html": [
       "<div>\n",
       "<style scoped>\n",
       "    .dataframe tbody tr th:only-of-type {\n",
       "        vertical-align: middle;\n",
       "    }\n",
       "\n",
       "    .dataframe tbody tr th {\n",
       "        vertical-align: top;\n",
       "    }\n",
       "\n",
       "    .dataframe thead th {\n",
       "        text-align: right;\n",
       "    }\n",
       "</style>\n",
       "<table border=\"1\" class=\"dataframe\">\n",
       "  <thead>\n",
       "    <tr style=\"text-align: right;\">\n",
       "      <th></th>\n",
       "      <th>start</th>\n",
       "      <th>end</th>\n",
       "      <th>strand</th>\n",
       "      <th>feature_interval_length</th>\n",
       "      <th>symbol</th>\n",
       "      <th>locus_tag</th>\n",
       "    </tr>\n",
       "  </thead>\n",
       "  <tbody>\n",
       "    <tr>\n",
       "      <th>0</th>\n",
       "      <td>1</td>\n",
       "      <td>1368</td>\n",
       "      <td>+</td>\n",
       "      <td>1368</td>\n",
       "      <td>dnaA</td>\n",
       "      <td>lp_0001</td>\n",
       "    </tr>\n",
       "    <tr>\n",
       "      <th>1</th>\n",
       "      <td>1546</td>\n",
       "      <td>2685</td>\n",
       "      <td>+</td>\n",
       "      <td>1140</td>\n",
       "      <td>dnaN</td>\n",
       "      <td>lp_0002</td>\n",
       "    </tr>\n",
       "    <tr>\n",
       "      <th>2</th>\n",
       "      <td>3210</td>\n",
       "      <td>3443</td>\n",
       "      <td>+</td>\n",
       "      <td>234</td>\n",
       "      <td>yaaA</td>\n",
       "      <td>lp_0004</td>\n",
       "    </tr>\n",
       "    <tr>\n",
       "      <th>3</th>\n",
       "      <td>3444</td>\n",
       "      <td>4568</td>\n",
       "      <td>+</td>\n",
       "      <td>1125</td>\n",
       "      <td>recF</td>\n",
       "      <td>lp_0005</td>\n",
       "    </tr>\n",
       "    <tr>\n",
       "      <th>4</th>\n",
       "      <td>4565</td>\n",
       "      <td>6511</td>\n",
       "      <td>+</td>\n",
       "      <td>1947</td>\n",
       "      <td>gyrB</td>\n",
       "      <td>lp_0006</td>\n",
       "    </tr>\n",
       "  </tbody>\n",
       "</table>\n",
       "</div>"
      ],
      "text/plain": [
       "   start   end strand  feature_interval_length symbol locus_tag\n",
       "0      1  1368      +                     1368   dnaA   lp_0001\n",
       "1   1546  2685      +                     1140   dnaN   lp_0002\n",
       "2   3210  3443      +                      234   yaaA   lp_0004\n",
       "3   3444  4568      +                     1125   recF   lp_0005\n",
       "4   4565  6511      +                     1947   gyrB   lp_0006"
      ]
     },
     "execution_count": 10,
     "metadata": {},
     "output_type": "execute_result"
    }
   ],
   "source": [
    "ref_features = pd.read_csv('../data/genome/GCF_000203855.3_ASM20385v3_feature_table.txt',sep='\\t')\n",
    "ref_features = ( ref_features[ref_features['# feature']=='gene']).reset_index().drop(['index'],axis=1)\n",
    "ref_features = ref_features[['start','end','strand','feature_interval_length','symbol','attributes']]\n",
    "ref_features = ( ref_features.dropna(subset=['attributes']) ).reset_index().drop(['index'],axis=1)\n",
    "locus_tag=[]\n",
    "for i in range(len(ref_features.index)):\n",
    "    att = list(ref_features['attributes'])[i]\n",
    "    if 'old_locus_tag=' in str( att ):\n",
    "        locus_tag.append( str(att.split('=')[1]).strip()  )\n",
    "    else:\n",
    "        locus_tag.append('-')\n",
    "ref_features['locus_tag']=locus_tag\n",
    "ref_features = ref_features.drop(['attributes'], axis=1)\n",
    "ref_features['symbol'] = ref_features['symbol'].fillna(ref_features['locus_tag'])\n",
    "ref_features.head()"
   ]
  },
  {
   "cell_type": "code",
   "execution_count": 11,
   "id": "6613b84c",
   "metadata": {},
   "outputs": [],
   "source": [
    "def save_dict_fasta( seq_dict, out_path ):\n",
    "    records = []\n",
    "    for k in seq_dict:\n",
    "        records.append( SeqRecord(Seq(seq_dict[k]), id = k, name=\"\",description=\"\") )\n",
    "    SeqIO.write(records, out_path ,\"fasta\")"
   ]
  },
  {
   "cell_type": "code",
   "execution_count": 12,
   "id": "b3cc73f8",
   "metadata": {},
   "outputs": [],
   "source": [
    "im1_promoters=get_im_promoters(IMs['1'], '../data/genome/sequence.fna', gb_features, ref_features)\n",
    "# save_dict_fasta( im1_promoters, '../data/MEME_results/im1_promoters.fasta' )"
   ]
  },
  {
   "cell_type": "markdown",
   "id": "d959231c",
   "metadata": {},
   "source": [
    "# IM-16 case study"
   ]
  },
  {
   "cell_type": "code",
   "execution_count": 43,
   "id": "4cb4d3ad",
   "metadata": {},
   "outputs": [],
   "source": [
    "im16_promoters=get_im_promoters(IMs['16'], '../data/genome/sequence.fna', gb_features, ref_features)\n",
    "# save_dict_fasta( im16_promoters, '../data/MEME_results/im16_promoters.fasta' )"
   ]
  },
  {
   "cell_type": "code",
   "execution_count": null,
   "id": "9379f3a0",
   "metadata": {},
   "outputs": [],
   "source": []
  }
 ],
 "metadata": {
  "kernelspec": {
   "display_name": "Python 3 (ipykernel)",
   "language": "python",
   "name": "python3"
  },
  "language_info": {
   "codemirror_mode": {
    "name": "ipython",
    "version": 3
   },
   "file_extension": ".py",
   "mimetype": "text/x-python",
   "name": "python",
   "nbconvert_exporter": "python",
   "pygments_lexer": "ipython3",
   "version": "3.8.10"
  }
 },
 "nbformat": 4,
 "nbformat_minor": 5
}
