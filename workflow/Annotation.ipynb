{
 "cells": [
  {
   "cell_type": "code",
   "execution_count": 1,
   "id": "c27eb9a6",
   "metadata": {},
   "outputs": [],
   "source": [
    "import numpy as np\n",
    "import pandas as pd\n",
    "import pickle\n",
    "from Bio import SeqIO\n",
    "from Bio.Seq import Seq\n",
    "from Bio.SeqRecord import SeqRecord\n",
    "import os \n",
    "from functions import *"
   ]
  },
  {
   "cell_type": "markdown",
   "id": "7f5e495d",
   "metadata": {},
   "source": [
    "# Load dataset"
   ]
  },
  {
   "cell_type": "code",
   "execution_count": 31,
   "id": "526f47c2",
   "metadata": {},
   "outputs": [],
   "source": [
    "S = pd.read_csv('../data/IMdata/S.csv')\n",
    "S = pd.read_csv('../data/IMdata/S.csv',index_col=0)\n",
    "A = pd.read_csv('../data/IMdata/A.csv',index_col=0)\n",
    "log_rpkm_norm = pd.read_csv('../data/IMdata/log_rpkm_norm.csv', index_col=0)\n",
    "regulons = load_pickle('../data/IMdata/regulons.pkl')\n",
    "IM_list = list(S.columns)[1:]"
   ]
  },
  {
   "cell_type": "code",
   "execution_count": 29,
   "id": "a5133ce9",
   "metadata": {},
   "outputs": [
    {
     "name": "stdout",
     "output_type": "stream",
     "text": [
      "Explained variance: 0.85\n"
     ]
    }
   ],
   "source": [
    "orig_var = (log_rpkm_norm**2).sum().sum()\n",
    "err_var = ((log_rpkm_norm.values - (S.values).dot(A.values) )**2).sum().sum()\n",
    "print('Explained variance: {:.2f}'.format(1-err_var/orig_var))"
   ]
  },
  {
   "cell_type": "markdown",
   "id": "4f97081e",
   "metadata": {},
   "source": [
    "# IM gene identification"
   ]
  },
  {
   "cell_type": "code",
   "execution_count": 22,
   "id": "e108c02f",
   "metadata": {},
   "outputs": [],
   "source": [
    "IM_thersholds = {}\n",
    "for im in IM_list:\n",
    "    IM_thersholds[im] = compute_threshold(S, im ,cutoff=550)"
   ]
  },
  {
   "cell_type": "markdown",
   "id": "47c16b43",
   "metadata": {},
   "source": [
    "# Regulon enrichment"
   ]
  },
  {
   "cell_type": "code",
   "execution_count": null,
   "id": "903a8224",
   "metadata": {},
   "outputs": [],
   "source": []
  }
 ],
 "metadata": {
  "kernelspec": {
   "display_name": "Python 3 (ipykernel)",
   "language": "python",
   "name": "python3"
  },
  "language_info": {
   "codemirror_mode": {
    "name": "ipython",
    "version": 3
   },
   "file_extension": ".py",
   "mimetype": "text/x-python",
   "name": "python",
   "nbconvert_exporter": "python",
   "pygments_lexer": "ipython3",
   "version": "3.8.10"
  }
 },
 "nbformat": 4,
 "nbformat_minor": 5
}
