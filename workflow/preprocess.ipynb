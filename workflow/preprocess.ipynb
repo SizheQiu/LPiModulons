{
 "cells": [
  {
   "cell_type": "code",
   "execution_count": 9,
   "id": "90da34b7",
   "metadata": {},
   "outputs": [],
   "source": [
    "import numpy as np\n",
    "import pandas as pd\n",
    "import pickle"
   ]
  },
  {
   "cell_type": "markdown",
   "id": "be11eda1",
   "metadata": {},
   "source": [
    "# Gene-locustags"
   ]
  },
  {
   "cell_type": "code",
   "execution_count": 12,
   "id": "9d46d93d",
   "metadata": {},
   "outputs": [],
   "source": [
    "ref_features = pd.read_csv('../data/GCF_000203855.3_ASM20385v3_feature_table.txt',sep='\\t')\n",
    "ref_features = ( ref_features[ref_features['# feature']=='gene']).reset_index().drop(['index'],axis=1)\n",
    "ref_features = ref_features[['start','end','strand','symbol','attributes']]\n",
    "ref_features = ( ref_features.dropna(subset=['attributes']) ).reset_index().drop(['index'],axis=1)"
   ]
  },
  {
   "cell_type": "code",
   "execution_count": 13,
   "id": "3bb4c5eb",
   "metadata": {},
   "outputs": [
    {
     "data": {
      "text/html": [
       "<div>\n",
       "<style scoped>\n",
       "    .dataframe tbody tr th:only-of-type {\n",
       "        vertical-align: middle;\n",
       "    }\n",
       "\n",
       "    .dataframe tbody tr th {\n",
       "        vertical-align: top;\n",
       "    }\n",
       "\n",
       "    .dataframe thead th {\n",
       "        text-align: right;\n",
       "    }\n",
       "</style>\n",
       "<table border=\"1\" class=\"dataframe\">\n",
       "  <thead>\n",
       "    <tr style=\"text-align: right;\">\n",
       "      <th></th>\n",
       "      <th>start</th>\n",
       "      <th>end</th>\n",
       "      <th>strand</th>\n",
       "      <th>symbol</th>\n",
       "      <th>attributes</th>\n",
       "    </tr>\n",
       "  </thead>\n",
       "  <tbody>\n",
       "    <tr>\n",
       "      <th>0</th>\n",
       "      <td>1</td>\n",
       "      <td>1368</td>\n",
       "      <td>+</td>\n",
       "      <td>dnaA</td>\n",
       "      <td>old_locus_tag=lp_0001</td>\n",
       "    </tr>\n",
       "    <tr>\n",
       "      <th>1</th>\n",
       "      <td>1546</td>\n",
       "      <td>2685</td>\n",
       "      <td>+</td>\n",
       "      <td>dnaN</td>\n",
       "      <td>old_locus_tag=lp_0002</td>\n",
       "    </tr>\n",
       "    <tr>\n",
       "      <th>2</th>\n",
       "      <td>3210</td>\n",
       "      <td>3443</td>\n",
       "      <td>+</td>\n",
       "      <td>yaaA</td>\n",
       "      <td>old_locus_tag=lp_0004</td>\n",
       "    </tr>\n",
       "    <tr>\n",
       "      <th>3</th>\n",
       "      <td>3444</td>\n",
       "      <td>4568</td>\n",
       "      <td>+</td>\n",
       "      <td>recF</td>\n",
       "      <td>old_locus_tag=lp_0005</td>\n",
       "    </tr>\n",
       "    <tr>\n",
       "      <th>4</th>\n",
       "      <td>4565</td>\n",
       "      <td>6511</td>\n",
       "      <td>+</td>\n",
       "      <td>gyrB</td>\n",
       "      <td>old_locus_tag=lp_0006</td>\n",
       "    </tr>\n",
       "  </tbody>\n",
       "</table>\n",
       "</div>"
      ],
      "text/plain": [
       "   start   end strand symbol             attributes\n",
       "0      1  1368      +   dnaA  old_locus_tag=lp_0001\n",
       "1   1546  2685      +   dnaN  old_locus_tag=lp_0002\n",
       "2   3210  3443      +   yaaA  old_locus_tag=lp_0004\n",
       "3   3444  4568      +   recF  old_locus_tag=lp_0005\n",
       "4   4565  6511      +   gyrB  old_locus_tag=lp_0006"
      ]
     },
     "execution_count": 13,
     "metadata": {},
     "output_type": "execute_result"
    }
   ],
   "source": [
    "ref_features.head()"
   ]
  },
  {
   "cell_type": "code",
   "execution_count": null,
   "id": "46639b25",
   "metadata": {},
   "outputs": [],
   "source": [
    "locus_tag=[]\n",
    "for i in range(len(ref_features.index)):\n",
    "    att = list(ref_features['attributes'])[i]\n",
    "    if 'old_locus_tag=' in str( att ):\n",
    "        locus_tag.append( str(att.split('=')[1]).strip()  )\n",
    "    else:\n",
    "        locus_tag.append('-')\n",
    "ref_features['locus_tag']="
   ]
  },
  {
   "cell_type": "code",
   "execution_count": 9,
   "id": "fe7ea16b",
   "metadata": {},
   "outputs": [],
   "source": [
    "gb_features = pd.read_csv('../data/GCA_000203855.3_ASM20385v3_feature_table.txt',sep='\\t')\n",
    "gb_features = (gb_features[gb_features['# feature']=='gene']).reset_index().drop(['index'],axis=1)\n",
    "gb_features = gb_features[['start','end','strand','symbol','locus_tag']]\n",
    "gb_features = ( gb_features.dropna(subset=['locus_tag']) ).reset_index().drop(['index'],axis=1)"
   ]
  },
  {
   "cell_type": "code",
   "execution_count": 10,
   "id": "f428c433",
   "metadata": {},
   "outputs": [
    {
     "data": {
      "text/html": [
       "<div>\n",
       "<style scoped>\n",
       "    .dataframe tbody tr th:only-of-type {\n",
       "        vertical-align: middle;\n",
       "    }\n",
       "\n",
       "    .dataframe tbody tr th {\n",
       "        vertical-align: top;\n",
       "    }\n",
       "\n",
       "    .dataframe thead th {\n",
       "        text-align: right;\n",
       "    }\n",
       "</style>\n",
       "<table border=\"1\" class=\"dataframe\">\n",
       "  <thead>\n",
       "    <tr style=\"text-align: right;\">\n",
       "      <th></th>\n",
       "      <th>start</th>\n",
       "      <th>end</th>\n",
       "      <th>strand</th>\n",
       "      <th>symbol</th>\n",
       "      <th>locus_tag</th>\n",
       "    </tr>\n",
       "  </thead>\n",
       "  <tbody>\n",
       "    <tr>\n",
       "      <th>0</th>\n",
       "      <td>1</td>\n",
       "      <td>1368</td>\n",
       "      <td>+</td>\n",
       "      <td>dnaA</td>\n",
       "      <td>lp_0001</td>\n",
       "    </tr>\n",
       "    <tr>\n",
       "      <th>1</th>\n",
       "      <td>1546</td>\n",
       "      <td>2685</td>\n",
       "      <td>+</td>\n",
       "      <td>dnaN</td>\n",
       "      <td>lp_0002</td>\n",
       "    </tr>\n",
       "    <tr>\n",
       "      <th>2</th>\n",
       "      <td>3210</td>\n",
       "      <td>3443</td>\n",
       "      <td>+</td>\n",
       "      <td>NaN</td>\n",
       "      <td>lp_0004</td>\n",
       "    </tr>\n",
       "    <tr>\n",
       "      <th>3</th>\n",
       "      <td>3444</td>\n",
       "      <td>4568</td>\n",
       "      <td>+</td>\n",
       "      <td>recF</td>\n",
       "      <td>lp_0005</td>\n",
       "    </tr>\n",
       "    <tr>\n",
       "      <th>4</th>\n",
       "      <td>4565</td>\n",
       "      <td>6511</td>\n",
       "      <td>+</td>\n",
       "      <td>gyrB</td>\n",
       "      <td>lp_0006</td>\n",
       "    </tr>\n",
       "    <tr>\n",
       "      <th>...</th>\n",
       "      <td>...</td>\n",
       "      <td>...</td>\n",
       "      <td>...</td>\n",
       "      <td>...</td>\n",
       "      <td>...</td>\n",
       "    </tr>\n",
       "    <tr>\n",
       "      <th>3139</th>\n",
       "      <td>3302592</td>\n",
       "      <td>3303845</td>\n",
       "      <td>-</td>\n",
       "      <td>NaN</td>\n",
       "      <td>lp_3684</td>\n",
       "    </tr>\n",
       "    <tr>\n",
       "      <th>3140</th>\n",
       "      <td>3303978</td>\n",
       "      <td>3305615</td>\n",
       "      <td>-</td>\n",
       "      <td>NaN</td>\n",
       "      <td>lp_3686</td>\n",
       "    </tr>\n",
       "    <tr>\n",
       "      <th>3141</th>\n",
       "      <td>3306330</td>\n",
       "      <td>3307163</td>\n",
       "      <td>-</td>\n",
       "      <td>yidC2</td>\n",
       "      <td>lp_3687</td>\n",
       "    </tr>\n",
       "    <tr>\n",
       "      <th>3142</th>\n",
       "      <td>3307179</td>\n",
       "      <td>3307523</td>\n",
       "      <td>-</td>\n",
       "      <td>rnpA</td>\n",
       "      <td>lp_3688</td>\n",
       "    </tr>\n",
       "    <tr>\n",
       "      <th>3143</th>\n",
       "      <td>3307634</td>\n",
       "      <td>3307768</td>\n",
       "      <td>-</td>\n",
       "      <td>rpmH</td>\n",
       "      <td>lp_3688a</td>\n",
       "    </tr>\n",
       "  </tbody>\n",
       "</table>\n",
       "<p>3144 rows × 5 columns</p>\n",
       "</div>"
      ],
      "text/plain": [
       "        start      end strand symbol locus_tag\n",
       "0           1     1368      +   dnaA   lp_0001\n",
       "1        1546     2685      +   dnaN   lp_0002\n",
       "2        3210     3443      +    NaN   lp_0004\n",
       "3        3444     4568      +   recF   lp_0005\n",
       "4        4565     6511      +   gyrB   lp_0006\n",
       "...       ...      ...    ...    ...       ...\n",
       "3139  3302592  3303845      -    NaN   lp_3684\n",
       "3140  3303978  3305615      -    NaN   lp_3686\n",
       "3141  3306330  3307163      -  yidC2   lp_3687\n",
       "3142  3307179  3307523      -   rnpA   lp_3688\n",
       "3143  3307634  3307768      -   rpmH  lp_3688a\n",
       "\n",
       "[3144 rows x 5 columns]"
      ]
     },
     "execution_count": 10,
     "metadata": {},
     "output_type": "execute_result"
    }
   ],
   "source": [
    "gb_features"
   ]
  },
  {
   "cell_type": "markdown",
   "id": "9d68cab9",
   "metadata": {},
   "source": [
    "# Combine transcriptomics"
   ]
  },
  {
   "cell_type": "markdown",
   "id": "d08e9974",
   "metadata": {},
   "source": [
    "# Regulons"
   ]
  },
  {
   "cell_type": "code",
   "execution_count": 10,
   "id": "26b9636d",
   "metadata": {},
   "outputs": [],
   "source": [
    "def read_regprecise(file):\n",
    "    regulon = {}\n",
    "    ffile = open(file, \"rt\")\n",
    "    lines = ffile.readlines()\n",
    "    ffile.close()\n",
    "    for line in lines:\n",
    "        line = line.strip()\n",
    "        if len(line)<1:\n",
    "            continue\n",
    "        elif '#' in line:\n",
    "            RF = ((line.split('-')[1]).split(':')[0]).strip()\n",
    "            regulon[ RF ] = []\n",
    "        else:\n",
    "            g = str(line.split('\\t')[2]).strip()\n",
    "            regulon[RF].append(g)\n",
    "    return regulon \n",
    "\n",
    "def load_pickle(filename):\n",
    "    temp = None\n",
    "    with open(filename,'rb') as f:\n",
    "        temp = pickle.load(f)\n",
    "    return temp\n",
    "\n",
    "def dump_pickle(file, filename):\n",
    "    with open(filename, 'wb') as f:\n",
    "        pickle.dump( file , f)"
   ]
  },
  {
   "cell_type": "code",
   "execution_count": 11,
   "id": "157046c3",
   "metadata": {},
   "outputs": [],
   "source": [
    "# regulons={}\n",
    "# regulons['Lbrevis'] = read_regprecise('../data/regulon/Regulons_Lbrevis_ATCC_367.txt')\n",
    "# regulons['Lplantarum'] = read_regprecise('../data/regulon/Regulons_Lplantarum_WCFS1.txt')\n",
    "# regulons['Lrhamnosus'] = read_regprecise('../data/regulon/Regulons_Lrhamnosus_GG.txt')\n",
    "# dump_pickle(regulons, '../data/regulon/regulons.pkl')"
   ]
  },
  {
   "cell_type": "code",
   "execution_count": 14,
   "id": "d7966a7f",
   "metadata": {},
   "outputs": [
    {
     "name": "stdout",
     "output_type": "stream",
     "text": [
      "dict_keys(['NagR', 'Lp_3221', 'PurR', 'CcpA', 'AraR', 'L10_leader', 'TPP', 'FMN', 'PyrR', 'L13_leader', 'L19_leader', 'L20_leader', 'L21_leader', 'Lysine', 'PreQ1', 'Purine', 'Rex', 'glmS', 'ykoK', 'yybP', 'T', 'MntR', 'NiaR', 'GlnR', 'CopR', 'ScrR', 'MalR', 'DeoR', 'MurR', 'CggR', 'PflR', 'NrtR', 'PadR', 'PerR', 'TreR', 'RbsR', 'ArgR', 'GalR', 'HrcA', 'Zur', 'NrdR', 'MtaR', 'CcpB', 'LacR', 'MdxR', 'MalR3', 'GutR', 'MtlR', 'FruR', 'CtsR', 'LexA', 'BirA', 'Lp_2742', 'YtrA', 'YwzG', 'GntR1', 'MleR', 'FlpA', 'NihR', 'FlrR', 'SMK_box_riboswitch', 'YhcF', 'YdfD/YisV'])\n"
     ]
    }
   ],
   "source": [
    "regulons = load_pickle('../data/regulon/regulons.pkl')\n",
    "print(regulons['Lplantarum'].keys())"
   ]
  },
  {
   "cell_type": "code",
   "execution_count": null,
   "id": "71d3840a",
   "metadata": {},
   "outputs": [],
   "source": []
  }
 ],
 "metadata": {
  "kernelspec": {
   "display_name": "Python 3 (ipykernel)",
   "language": "python",
   "name": "python3"
  },
  "language_info": {
   "codemirror_mode": {
    "name": "ipython",
    "version": 3
   },
   "file_extension": ".py",
   "mimetype": "text/x-python",
   "name": "python",
   "nbconvert_exporter": "python",
   "pygments_lexer": "ipython3",
   "version": "3.8.10"
  }
 },
 "nbformat": 4,
 "nbformat_minor": 5
}
