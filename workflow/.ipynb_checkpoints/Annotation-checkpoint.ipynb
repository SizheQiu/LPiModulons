{
 "cells": [
  {
   "cell_type": "code",
   "execution_count": 28,
   "id": "c27eb9a6",
   "metadata": {},
   "outputs": [],
   "source": [
    "import numpy as np\n",
    "import pandas as pd\n",
    "import pickle\n",
    "from Bio import SeqIO\n",
    "from Bio.Seq import Seq\n",
    "from Bio.SeqRecord import SeqRecord\n",
    "from matplotlib import pyplot as plt\n",
    "import os \n",
    "from functions import *\n",
    "from enrichment import *\n",
    "from matplotlib_venn import venn2, venn3"
   ]
  },
  {
   "cell_type": "markdown",
   "id": "7f5e495d",
   "metadata": {},
   "source": [
    "# Load dataset"
   ]
  },
  {
   "cell_type": "code",
   "execution_count": 2,
   "id": "526f47c2",
   "metadata": {},
   "outputs": [],
   "source": [
    "S = pd.read_csv('../data/IMdata/S.csv')\n",
    "S = pd.read_csv('../data/IMdata/S.csv',index_col=0)\n",
    "A = pd.read_csv('../data/IMdata/A.csv',index_col=0)\n",
    "log_rpkm_norm = pd.read_csv('../data/IMdata/log_rpkm_norm.csv', index_col=0)\n",
    "IM_list = list(S.columns)[1:]\n",
    "\n",
    "regulons = load_pickle('../data/IMdata/lpwcfs1_regulons.pkl')\n",
    "regulators, gene_ids = [],[]\n",
    "for k in regulons.keys():\n",
    "    gene_ids += regulons[k]\n",
    "    regulators += [ k for i in range(len(regulons[k])) ]\n",
    "trn = pd.DataFrame(zip(regulators,gene_ids), columns=['regulator','gene_id'])"
   ]
  },
  {
   "cell_type": "code",
   "execution_count": 5,
   "id": "a5133ce9",
   "metadata": {},
   "outputs": [
    {
     "name": "stdout",
     "output_type": "stream",
     "text": [
      "Explained variance: 0.85\n"
     ]
    }
   ],
   "source": [
    "orig_var = (log_rpkm_norm**2).sum().sum()\n",
    "err_var = ((log_rpkm_norm.values - (S.values).dot(A.values) )**2).sum().sum()\n",
    "print('Explained variance: {:.2f}'.format(1-err_var/orig_var))"
   ]
  },
  {
   "cell_type": "markdown",
   "id": "4f97081e",
   "metadata": {},
   "source": [
    "# IM gene identification"
   ]
  },
  {
   "cell_type": "code",
   "execution_count": 6,
   "id": "e108c02f",
   "metadata": {},
   "outputs": [],
   "source": [
    "IM_thersholds = {}\n",
    "for im in IM_list:\n",
    "    IM_thersholds[im] = compute_threshold(S, im ,cutoff=550)"
   ]
  },
  {
   "cell_type": "code",
   "execution_count": 5,
   "id": "da394fef",
   "metadata": {},
   "outputs": [],
   "source": [
    "# IMs = {}\n",
    "# for im in IM_list:\n",
    "#     temp_pd = S[abs(S[im]) >= IM_thersholds[im] ]\n",
    "#     IMs[im] = list(temp_pd.index)\n",
    "# dump_pickle(IMs, '../data/IMdata/imodulon_genes.pkl')"
   ]
  },
  {
   "cell_type": "code",
   "execution_count": 7,
   "id": "3e55924e",
   "metadata": {},
   "outputs": [],
   "source": [
    "IMs = load_pickle('../data/IMdata/imodulon_genes.pkl')"
   ]
  },
  {
   "cell_type": "code",
   "execution_count": 8,
   "id": "81fa617c",
   "metadata": {},
   "outputs": [
    {
     "data": {
      "text/plain": [
       "Text(0, 0.5, 'Number')"
      ]
     },
     "execution_count": 8,
     "metadata": {},
     "output_type": "execute_result"
    },
    {
     "data": {
      "image/png": "[encoded data removed]",
      "text/plain": [
       "<Figure size 432x288 with 1 Axes>"
      ]
     },
     "metadata": {
      "needs_background": "light"
     },
     "output_type": "display_data"
    }
   ],
   "source": [
    "IM_sizes = [len(IMs[im]) for im in IMs]\n",
    "plt.hist(IM_sizes,bins=25);\n",
    "plt.xlabel('iModulon size')\n",
    "plt.ylabel('Number')"
   ]
  },
  {
   "cell_type": "markdown",
   "id": "47c16b43",
   "metadata": {},
   "source": [
    "# Regulon enrichment"
   ]
  },
  {
   "cell_type": "code",
   "execution_count": 15,
   "id": "7662e4de",
   "metadata": {},
   "outputs": [
    {
     "data": {
      "text/plain": [
       "pvalue             1\n",
       "precision          0\n",
       "recall             0\n",
       "f1score            0\n",
       "TP                 0\n",
       "target_set_size    6\n",
       "gene_set_size      7\n",
       "dtype: int64"
      ]
     },
     "execution_count": 15,
     "metadata": {},
     "output_type": "execute_result"
    }
   ],
   "source": [
    "compute_enrichment(IMs['1'],regulons['NagR'], list(S.index))"
   ]
  },
  {
   "cell_type": "code",
   "execution_count": 32,
   "id": "e34e0ca0",
   "metadata": {},
   "outputs": [
    {
     "name": "stdout",
     "output_type": "stream",
     "text": [
      "4\n",
      "7\n",
      "9\n",
      "14\n",
      "15\n",
      "16\n",
      "17\n",
      "20\n",
      "23\n",
      "26\n",
      "33\n",
      "36\n",
      "42\n",
      "43\n",
      "45\n",
      "47\n",
      "48\n",
      "49\n"
     ]
    }
   ],
   "source": [
    "for k in IMs:\n",
    "    x = sum(trn.gene_id.isin( IMs[k] ) )\n",
    "    if x > 0:\n",
    "        print(k)\n",
    "    "
   ]
  },
  {
   "cell_type": "code",
   "execution_count": null,
   "id": "60cc1cbc",
   "metadata": {},
   "outputs": [],
   "source": []
  }
 ],
 "metadata": {
  "kernelspec": {
   "display_name": "Python 3 (ipykernel)",
   "language": "python",
   "name": "python3"
  },
  "language_info": {
   "codemirror_mode": {
    "name": "ipython",
    "version": 3
   },
   "file_extension": ".py",
   "mimetype": "text/x-python",
   "name": "python",
   "nbconvert_exporter": "python",
   "pygments_lexer": "ipython3",
   "version": "3.8.10"
  }
 },
 "nbformat": 4,
 "nbformat_minor": 5
}
