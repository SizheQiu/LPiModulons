{
 "cells": [
  {
   "cell_type": "code",
   "execution_count": null,
   "id": "42a93ed8",
   "metadata": {},
   "outputs": [],
   "source": [
    "import numpy as np\n",
    "import pandas as pd\n",
    "import pickle\n",
    "from Bio import SeqIO\n",
    "from Bio.Seq import Seq\n",
    "from Bio.SeqRecord import SeqRecord\n",
    "import os \n",
    "from functions import *"
   ]
  },
  {
   "cell_type": "markdown",
   "id": "b47119cb",
   "metadata": {},
   "source": [
    "# Load dataset"
   ]
  },
  {
   "cell_type": "code",
   "execution_count": null,
   "id": "c00bf903",
   "metadata": {},
   "outputs": [],
   "source": [
    "S = pd.read_csv('../data/IMdata/S.csv')\n",
    "S = pd.read_csv('../data/IMdata/S.csv',index_col=0)\n",
    "A = pd.read_csv('../data/IMdata/A.csv',index_col=0)\n",
    "log_rpkm_norm = pd.read_csv('../data/IMdata/log_rpkm_norm.csv', index_col=0)\n",
    "regulons = load_pickle('../data/IMdata/regulons.pkl')\n",
    "IM_list = list(S.columns)[1:]"
   ]
  }
 ],
 "metadata": {
  "kernelspec": {
   "display_name": "Python 3 (ipykernel)",
   "language": "python",
   "name": "python3"
  },
  "language_info": {
   "codemirror_mode": {
    "name": "ipython",
    "version": 3
   },
   "file_extension": ".py",
   "mimetype": "text/x-python",
   "name": "python",
   "nbconvert_exporter": "python",
   "pygments_lexer": "ipython3",
   "version": "3.8.10"
  }
 },
 "nbformat": 4,
 "nbformat_minor": 5
}
