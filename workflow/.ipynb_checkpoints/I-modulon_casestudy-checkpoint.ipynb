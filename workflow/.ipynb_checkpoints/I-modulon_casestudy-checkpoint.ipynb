{
 "cells": [
  {
   "cell_type": "code",
   "execution_count": null,
   "id": "ca0f6e8a",
   "metadata": {},
   "outputs": [],
   "source": [
    "import numpy as np\n",
    "import pandas as pd\n",
    "import pickle\n",
    "from Bio import SeqIO\n",
    "from Bio.Seq import Seq\n",
    "from Bio.SeqRecord import SeqRecord\n",
    "from matplotlib import pyplot as plt\n",
    "import os \n",
    "from functions import *\n",
    "from enrichment import *\n",
    "from matplotlib_venn import venn2, venn3\n",
    "from dna_features_viewer import GraphicFeature, GraphicRecord\n",
    "from scipy import stats"
   ]
  },
  {
   "cell_type": "markdown",
   "id": "3ae24c52",
   "metadata": {},
   "source": [
    "# Load dataset"
   ]
  },
  {
   "cell_type": "code",
   "execution_count": null,
   "id": "f03999a5",
   "metadata": {},
   "outputs": [],
   "source": [
    "gb_features = pd.read_csv('../data/genome/GCA_000203855.3_ASM20385v3_feature_table.txt',sep='\\t')\n",
    "gb_features = (gb_features[gb_features['# feature']=='gene']).reset_index().drop(['index'],axis=1)\n",
    "gb_features = gb_features[['start','end','strand','feature_interval_length','symbol','locus_tag']]\n",
    "gb_features = ( gb_features.dropna(subset=['locus_tag']) ).reset_index().drop(['index'],axis=1)\n",
    "gb_features['symbol'] = gb_features['symbol'].fillna(gb_features['locus_tag'])\n",
    "\n",
    "ref_features = pd.read_csv('../data/genome/GCF_000203855.3_ASM20385v3_feature_table.txt',sep='\\t')\n",
    "ref_features = ( ref_features[ref_features['# feature']=='gene']).reset_index().drop(['index'],axis=1)\n",
    "ref_features = ref_features[['start','end','strand','feature_interval_length','symbol','attributes']]\n",
    "ref_features = ( ref_features.dropna(subset=['attributes']) ).reset_index().drop(['index'],axis=1)\n",
    "locus_tag=[]\n",
    "for i in range(len(ref_features.index)):\n",
    "    att = list(ref_features['attributes'])[i]\n",
    "    if 'old_locus_tag=' in str( att ):\n",
    "        locus_tag.append( str(att.split('=')[1]).strip()  )\n",
    "    else:\n",
    "        locus_tag.append('-')\n",
    "ref_features['locus_tag']=locus_tag\n",
    "ref_features = ref_features.drop(['attributes'], axis=1)\n",
    "ref_features['symbol'] = ref_features['symbol'].fillna(ref_features['locus_tag'])"
   ]
  },
  {
   "cell_type": "code",
   "execution_count": null,
   "id": "a5725149",
   "metadata": {},
   "outputs": [],
   "source": [
    "S = pd.read_csv('../data/IMdata/S.csv')\n",
    "S = pd.read_csv('../data/IMdata/S.csv',index_col=0)\n",
    "A = pd.read_csv('../data/IMdata/A.csv',index_col=0)\n",
    "all_gene_ids = list(S.index)\n",
    "log_rpkm_norm = pd.read_csv('../data/IMdata/log_rpkm_norm.csv', index_col=0)\n",
    "log_rpkm = pd.read_csv('../data/IMdata/log_rpkm.csv',index_col=0)\n",
    "IM_list = list(S.columns)\n",
    "\n",
    "regulons = load_pickle('../data/IMdata/lpwcfs1_regulons.pkl')\n",
    "regulators, gene_ids = [],[]\n",
    "for k in regulons.keys():\n",
    "    gene_ids += regulons[k]\n",
    "    regulators += [ k for i in range(len(lp_regulons[k])) ]\n",
    "trn = pd.DataFrame(zip(regulators,gene_ids), columns=['regulator','gene_id'])"
   ]
  },
  {
   "cell_type": "code",
   "execution_count": null,
   "id": "c913531b",
   "metadata": {},
   "outputs": [],
   "source": [
    "IMs = load_pickle('../data/IMdata/imodulon_genes.pkl')"
   ]
  },
  {
   "cell_type": "code",
   "execution_count": null,
   "id": "2dc305a1",
   "metadata": {},
   "outputs": [],
   "source": [
    "def save_dict_fasta( seq_dict, out_path ):\n",
    "    records = []\n",
    "    for k in seq_dict:\n",
    "        records.append( SeqRecord(Seq(seq_dict[k]), id = k, name=\"\",description=\"\") )\n",
    "    SeqIO.write(records, out_path ,\"fasta\")"
   ]
  },
  {
   "cell_type": "markdown",
   "id": "eff8e0dd",
   "metadata": {},
   "source": [
    "# IM-1 case study"
   ]
  },
  {
   "cell_type": "code",
   "execution_count": null,
   "id": "3ed80932",
   "metadata": {},
   "outputs": [],
   "source": [
    "im1_promoters=get_im_promoters(IMs['1'], '../data/genome/sequence.fna', gb_features, ref_features)\n",
    "# save_dict_fasta( im1_promoters, '../data/MEME_results/im1_promoters.fasta' )"
   ]
  },
  {
   "cell_type": "markdown",
   "id": "9d980911",
   "metadata": {},
   "source": [
    "# IM-16 case study"
   ]
  },
  {
   "cell_type": "code",
   "execution_count": null,
   "id": "12a87765",
   "metadata": {},
   "outputs": [],
   "source": [
    "im16_promoters=get_im_promoters(IMs['16'], '../data/genome/sequence.fna', gb_features, ref_features)\n",
    "# save_dict_fasta( im16_promoters, '../data/MEME_results/im16_promoters.fasta' )"
   ]
  }
 ],
 "metadata": {
  "kernelspec": {
   "display_name": "Python 3 (ipykernel)",
   "language": "python",
   "name": "python3"
  },
  "language_info": {
   "codemirror_mode": {
    "name": "ipython",
    "version": 3
   },
   "file_extension": ".py",
   "mimetype": "text/x-python",
   "name": "python",
   "nbconvert_exporter": "python",
   "pygments_lexer": "ipython3",
   "version": "3.8.10"
  }
 },
 "nbformat": 4,
 "nbformat_minor": 5
}
