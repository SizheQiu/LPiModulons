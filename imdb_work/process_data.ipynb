{
 "cells": [
  {
   "cell_type": "code",
   "execution_count": 1,
   "id": "5c70bdd6-1c31-4cba-8487-37cc9cb398a5",
   "metadata": {},
   "outputs": [],
   "source": [
    "import numpy as np\n",
    "import pandas as pd\n",
    "import pickle\n",
    "from Bio import SeqIO\n",
    "from Bio.Seq import Seq\n",
    "from Bio.SeqRecord import SeqRecord\n",
    "import os \n",
    "from functools import reduce\n",
    "from scipy import stats\n",
    "import itertools\n",
    "from matplotlib import pyplot as plt"
   ]
  },
  {
   "cell_type": "code",
   "execution_count": 2,
   "id": "88390ce3-4353-439f-80b0-30e15013d602",
   "metadata": {},
   "outputs": [],
   "source": [
    "log_rpkm = pd.read_csv('data/log_rpkm.csv')"
   ]
  },
  {
   "cell_type": "code",
   "execution_count": 9,
   "id": "3b76d951",
   "metadata": {},
   "outputs": [],
   "source": [
    "pH_meta = pd.read_csv('data/GSE143834_meta.txt')\n",
    "qs_meta = pd.read_csv('data/GSE124050_meta.txt')\n",
    "hab_meta = pd.read_csv('data/GSE115448_meta.txt')\n",
    "cs_meta = pd.read_csv('data/GSE160565_meta.txt')\n",
    "meta = pd.concat([pH_meta,qs_meta,hab_meta,cs_meta])\n",
    "meta.to_csv('data/metadata.tsv',sep='\\t',index=None)"
   ]
  },
  {
   "cell_type": "code",
   "execution_count": null,
   "id": "e7a77666",
   "metadata": {},
   "outputs": [],
   "source": []
  }
 ],
 "metadata": {
  "kernelspec": {
   "display_name": "Python 3 (ipykernel)",
   "language": "python",
   "name": "python3"
  },
  "language_info": {
   "codemirror_mode": {
    "name": "ipython",
    "version": 3
   },
   "file_extension": ".py",
   "mimetype": "text/x-python",
   "name": "python",
   "nbconvert_exporter": "python",
   "pygments_lexer": "ipython3",
   "version": "3.8.10"
  }
 },
 "nbformat": 4,
 "nbformat_minor": 5
}
